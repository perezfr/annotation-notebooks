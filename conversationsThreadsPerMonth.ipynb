{
  "nbformat": 4,
  "nbformat_minor": 0,
  "metadata": {
    "colab": {
      "name": "conversationsThreadsPerMonth-test.ipynb",
      "version": "0.3.2",
      "provenance": [],
      "collapsed_sections": [
        "sCDnLyJRCRSS"
      ]
    },
    "kernelspec": {
      "name": "python3",
      "display_name": "Python 3"
    }
  },
  "cells": [
    {
      "cell_type": "markdown",
      "metadata": {
        "id": "fXCWS1WIBVT5",
        "colab_type": "text"
      },
      "source": [
        "# Packages"
      ]
    },
    {
      "cell_type": "code",
      "metadata": {
        "id": "dnHOzmZz9PQs",
        "colab_type": "code",
        "colab": {}
      },
      "source": [
        "%matplotlib inline\n",
        "import pandas as pd\n",
        "import matplotlib.pyplot as plt\n",
        "import networkx as nx\n",
        "import requests\n",
        "from pandas.io.json import json_normalize"
      ],
      "execution_count": 0,
      "outputs": []
    },
    {
      "cell_type": "code",
      "metadata": {
        "id": "ExkB02OR3VKp",
        "colab_type": "code",
        "outputId": "9a0d13e0-f380-4719-e08e-51d3607eed83",
        "colab": {
          "base_uri": "https://localhost:8080/",
          "height": 272
        }
      },
      "source": [
        "!pip install webweb"
      ],
      "execution_count": 0,
      "outputs": [
        {
          "output_type": "stream",
          "text": [
            "Collecting webweb\n",
            "\u001b[?25l  Downloading https://files.pythonhosted.org/packages/a9/52/0f1c0b78721bee494d2016868cfd06de661aee04be21054ebf0b3d2d1c06/webweb-0.0.17.tar.gz (201kB)\n",
            "\u001b[K    100% |████████████████████████████████| 204kB 24.3MB/s \n",
            "\u001b[?25hBuilding wheels for collected packages: webweb\n",
            "  Building wheel for webweb (setup.py) ... \u001b[?25ldone\n",
            "\u001b[?25h  Stored in directory: /root/.cache/pip/wheels/a5/07/e1/9bbaa0fefadd9710b532db01158bfda19a0223ed23ce7d5314\n",
            "Successfully built webweb\n",
            "Installing collected packages: webweb\n",
            "Successfully installed webweb-0.0.17\n"
          ],
          "name": "stdout"
        }
      ]
    },
    {
      "cell_type": "markdown",
      "metadata": {
        "id": "bAM80zK4BdrB",
        "colab_type": "text"
      },
      "source": [
        "# List of documents"
      ]
    },
    {
      "cell_type": "code",
      "metadata": {
        "id": "zJ8rozLZBfaC",
        "colab_type": "code",
        "colab": {}
      },
      "source": [
        "_FMlinkList = {\n",
        "    'october2017':\"http://educatorinnovator.org/how-young-activists-deploy-digital-tools-for-social-change\",\n",
        "    'november2017':\"https://educatorinnovator.org/wp-content/uploads/2017/10/RRE_Chapter-6_Civic-Participation-Remiagined_0091732X17690121.pdf\",\n",
        "    'december2017':\"https://educatorinnovator.org/wp-content/uploads/2017/10/Critical-Literacy-And-Our-Students-Lives.pdf\",\n",
        "    'january2018':\"https://educatorinnovator.org/wp-content/uploads/2017/12/OurDeclaration_PG31-35.pdf\",\n",
        "    'february2018':\"https://educatorinnovator.org/wp-content/uploads/2018/02/Educating-for-Democracy-in-a-Partisan-Age.pdf.pdf\",\n",
        "    'march2018':\"https://educatorinnovator.org/wp-content/uploads/2018/02/The-Stories-They-Tell-.pdf\",\n",
        "    'april2018':\"https://educatorinnovator.org/wp-content/uploads/2018/03/Educating-Youth-for-Online-Civic-and-Political-Dialogue_-A-Conceptual-Framework-for-the-Digital-Age-_-Journal-of-Digital-and-Media-Literacy.pdf\",\n",
        "    'may2018':\"https://educatorinnovator.org/wp-content/uploads/2018/03/zemelman_websample.pdf\",\n",
        "    'june2018':\"http://www.ncte.org/library/NCTEFiles/Resources/Journals/VM/0254-may2018/VM0254Leading.pdf\"\n",
        "}"
      ],
      "execution_count": 0,
      "outputs": []
    },
    {
      "cell_type": "markdown",
      "metadata": {
        "id": "pw-5CXo1BkUm",
        "colab_type": "text"
      },
      "source": [
        "# Helper functions"
      ]
    },
    {
      "cell_type": "code",
      "metadata": {
        "id": "cBFqJssp81Tp",
        "colab_type": "code",
        "colab": {}
      },
      "source": [
        "# Build dataframe from hypothes.is API\n",
        "def H_API(session,uri):\n",
        "    n = 0\n",
        "    payload = {'url':uri}\n",
        "    r = requests.get('https://hypothes.is/api/search',params=payload)\n",
        "    tmp = pd.DataFrame(columns=['created', 'document.title', 'group', 'id', 'links.html',\n",
        "       'links.incontext', 'links.json', 'permissions.admin',\n",
        "       'permissions.delete', 'permissions.read', 'permissions.update',\n",
        "       'references', 'tags', 'target', 'text', 'updated', 'uri', 'user'])\n",
        "    total = r.json()['total']\n",
        "    while n < total:\n",
        "        #print(n)\n",
        "        tmp = tmp.append(json_normalize(r.json()['rows']))\n",
        "        n = len(tmp)\n",
        "        payload = {\n",
        "            'url':uri,\n",
        "            'offset':n}\n",
        "        r = requests.get('https://hypothes.is/api/search',params=payload)\n",
        "    tmp['session'] = session\n",
        "    tmp['updated'] = pd.to_datetime(tmp['updated'])\n",
        "    tmp['created'] = pd.to_datetime(tmp['created'])\n",
        "    tmp = tmp.set_index(tmp['created'])\n",
        "    return tmp\n",
        "\n",
        "#returns the number of times a message was in a reference list of other messages\n",
        "def countReplies(msgId):\n",
        "    return len(df.dropna()[df['references'].dropna().map(lambda x: msgId in x)])\n",
        "def listOfIds(msgId):\n",
        "    return df.dropna()[df['references'].dropna().map(lambda x: msgId in x)]['id'].values\n",
        "def replyTimeDelta(x):\n",
        "    if len(df[df['id']==x]['created']) == 0:\n",
        "      return None\n",
        "    else:\n",
        "      return df[df['id']==x]['created'].iloc[0]\n",
        "    \n",
        "#Builds a reply chain of users\n",
        "def replyChain(refs):\n",
        "  replychain = []\n",
        "  for i in refs:\n",
        "    if len(df[df['id']==i]['user']) == 0:\n",
        "      return None\n",
        "    replychain.append(df[df['id']==i]['user'].iloc[0])\n",
        "  return replychain"
      ],
      "execution_count": 0,
      "outputs": []
    },
    {
      "cell_type": "markdown",
      "metadata": {
        "id": "_WlY1bvqB9w2",
        "colab_type": "text"
      },
      "source": [
        "# Create dataFrames"
      ]
    },
    {
      "cell_type": "code",
      "metadata": {
        "id": "ES8QOOR187b8",
        "colab_type": "code",
        "colab": {}
      },
      "source": [
        "threadsByMonth = {}\n",
        "for session,link in _FMlinkList.items():    \n",
        "  #Build network of threads\n",
        "  df = pd.DataFrame(columns=['created','document.title','group','id','links.html',\n",
        "         'links.incontext','links.json','permissions.admin',\n",
        "         'permissions.delete','permissions.read','permissions.update',\n",
        "         'references','tags','target','text','updated','uri','user','session'])\n",
        "  df = df.append(H_API(session,link))\n",
        "  df = df.tz_localize('UTC').tz_convert('US/Mountain')\n",
        "\n",
        "  #Modify df for network analysis\n",
        "  df = df[['created','id','references','session','tags','target', 'text','user']]\n",
        "  df['replyTo'] = df['references'].map(lambda x: x[-1],na_action='ignore')\n",
        "  df['user'] = df['user'].map(lambda x: x[5:-12])\n",
        "\n",
        "  #Time betweeen message and reply\n",
        "  df['replyDelay'] = df[df['replyTo'].notnull()]['created']\\\n",
        "  - df[df['replyTo'].notnull()]['replyTo'].map(lambda x: replyTimeDelta(x))\n",
        "\n",
        "  #convert to minutes\n",
        "  df['replyDelay'] = df['replyDelay'].map(lambda x: x.total_seconds() / 60)\n",
        "  #builds reply chain of users\n",
        "  df['replyChain'] = df[df['references'].notnull()]['references'].map(lambda x: replyChain(x),na_action='ignore')\n",
        "\n",
        "  G = nx.from_pandas_edgelist(df[df['references'].notnull()],'id','replyTo'\n",
        "                             ,edge_attr=['tags','target','text','user','replyDelay']\n",
        "                             ,create_using=nx.DiGraph())\n",
        "\n",
        "  # Build dataframe of threads with list of ids per thread\n",
        "  threads = []\n",
        "  for x in nx.connected_components(nx.to_undirected(G)):\n",
        "      threads.append(x)\n",
        "\n",
        "  # list of text per thread\n",
        "  textT = []\n",
        "  timesT = []\n",
        "  usersT = []\n",
        "  repliesT = []\n",
        "  for thread in threads:    \n",
        "      T = []\n",
        "      t = []\n",
        "      u = []\n",
        "      r = []\n",
        "      for key,val in df[df['id'].isin(thread)].iterrows():\n",
        "          T.append(val['text'])\n",
        "          t.append(val['replyDelay'])\n",
        "          u.append(val['user'])\n",
        "          r.append(val['replyChain'])\n",
        "      textT.append(T)\n",
        "      timesT.append(t)\n",
        "      usersT.append(u)\n",
        "      repliesT.append(r)\n",
        "\n",
        "  #build threads dataframe\n",
        "  dfThreads = pd.DataFrame(pd.Series(data=threads),columns=['ids'])\n",
        "  dfThreads['texts'] = pd.Series(textT)\n",
        "  dfThreads['timeDelays'] = pd.Series(timesT)\n",
        "  dfThreads['users'] = pd.Series(usersT)\n",
        "  dfThreads['replyChains'] = pd.Series(repliesT)\n",
        "  dfThreads['totalMsgs'] = dfThreads['ids'].map(lambda x: len(x))\n",
        "  dfThreads = dfThreads.sort_values(by='totalMsgs',ascending=False)\n",
        "  dfThreads.reset_index(drop=True,inplace=True)\n",
        "  \n",
        "  threadsByMonth[session] = dfThreads"
      ],
      "execution_count": 0,
      "outputs": []
    },
    {
      "cell_type": "markdown",
      "metadata": {
        "id": "sCDnLyJRCRSS",
        "colab_type": "text"
      },
      "source": [
        "##Threads with 3 or more messages \n",
        "###Prints text by participants"
      ]
    },
    {
      "cell_type": "code",
      "metadata": {
        "id": "GOWOEyg4-uWl",
        "colab_type": "code",
        "colab": {}
      },
      "source": [
        "for k in threadsByMonth:\n",
        "  print(\"****************************************************************************************************\")\n",
        "  print(\"****************************************************************************************************\")\n",
        "  print('                                 Document name:',k)\n",
        "  print('              URL:',_FMlinkList[k])\n",
        "  print(\"****************************************************************************************************\")\n",
        "  print(\"****************************************************************************************************\")\n",
        "  for key,vals in threadsByMonth[k].iterrows():\n",
        "    if (vals['totalMsgs'] < 3): continue\n",
        "    print(\"**************************************************\")\n",
        "    print('NEW THREAD')\n",
        "    print('Message Count: ',vals['totalMsgs'])\n",
        "    print(\"**************************************************\")\n",
        "    ul = vals['users']\n",
        "    tl = vals['texts']\n",
        "    rl = vals['replyChains']\n",
        "    ul.reverse()\n",
        "    tl.reverse()\n",
        "    rl.reverse()\n",
        "    for p in zip(rl, ul, tl):\n",
        "      if (str(p[0]) == 'nan'):\n",
        "        print(p[1]+\":\",p[2])\n",
        "      else: print(str(p[0]),p[1]+\":\",p[2])\n",
        "      print(\"-------------------\")\n",
        "    print()"
      ],
      "execution_count": 0,
      "outputs": []
    },
    {
      "cell_type": "code",
      "metadata": {
        "id": "D6lFzsLX-3ez",
        "colab_type": "code",
        "outputId": "2f95d5df-5803-4c44-c5b3-f7206d151da5",
        "colab": {
          "base_uri": "https://localhost:8080/",
          "height": 36
        }
      },
      "source": [
        "G.graph"
      ],
      "execution_count": 0,
      "outputs": [
        {
          "output_type": "execute_result",
          "data": {
            "text/plain": [
              "{}"
            ]
          },
          "metadata": {
            "tags": []
          },
          "execution_count": 12
        }
      ]
    },
    {
      "cell_type": "code",
      "metadata": {
        "id": "7srUpqnt9M8Y",
        "colab_type": "code",
        "outputId": "a6f83ab8-c2dc-4230-c6be-6bcbfe116cdf",
        "colab": {
          "base_uri": "https://localhost:8080/",
          "height": 781
        }
      },
      "source": [
        "for x in nx.connected_components(nx.to_undirected(G)):\n",
        "  print(x)\n",
        "  #threads.append(x)\n",
        "  #nx.draw(x, with_labels=True, font_weight='bold')"
      ],
      "execution_count": 0,
      "outputs": [
        {
          "output_type": "stream",
          "text": [
            "{'rjsQ7GaHEeiMCCPSia1NEg', 's0u-fGZSEeiPqc_LN9yVyw', 'QfIICGdCEeiicdt7z8tmYg', '5s6sOtLsEeisBesXFxE2cw', 'F96S9GjzEeiiJCNcd4OFIQ'}\n",
            "{'kSuxSM-jEeitPI-ivMkXCg', 'GbdHZM_nEeitGK-suWUScw'}\n",
            "{'wmAccM_mEeibTxOwSjpDKQ', 'qtVgKs-kEeiFHO9HXMoyRA'}\n",
            "{'NAqDXM_mEei_LE9W8Wt0HQ', 'zpg4sM-vEeiubRvJC1Fc5A'}\n",
            "{'jnEMgM-5Eei3u-_FGkxHww', 'qTIeAs_lEeit47NKat9c3Q'}\n",
            "{'18cE0M-kEeiaVzPJw_siVA', 'zY9baG92Eei91AMgtQzLPQ'}\n",
            "{'qPAvmJtpEeiO3u-io0-SiQ', 'iuj8zmmaEeixi3PKXBLbqw', 'N4nGgJsiEeiFYC9nWRYn6A', 'WEjI2mZIEeicWztGkmYDRw', '538E9GbMEei8Iv-jCcdqTg'}\n",
            "{'3CX-hmhYEeii1dvrZqK-_w', 'ceFbAGipEeiurQuLdztQYQ', '0OIVmpKJEeiMBnMsrlUrNg'}\n",
            "{'mWMkepKIEeioOG-ZMZBEgA', 'mMil_ohQEeicUFO3Mh_WeQ'}\n",
            "{'1UFogGZGEeib1sMyNoWQgQ', 'eEf86JKIEeioN0c6YnE7uQ'}\n",
            "{'0YcEnmhXEei15Deeq8s4Hw', 'A4J3qIhREeiyBqebVJCzwA', 'wykwlGimEei5SR9_o7hyOg'}\n",
            "{'jww6OGj5EeiYbENLnyh70Q', 'rQcK0mlwEeiu3xPYAh8PAQ', '3EnmZGhzEeij9Eeoq6rh9A', 'QTsmwGhPEeikw6P6gIp9ag', 'ha-_TGy4Eei7AiemkeiHYQ', 'RCdssGi2Eei5UPsczZj0BQ', 'CYvVNGZSEeiz-EMid5eGsA', 'CajSNGbOEeich1O72g03vQ', 'G5XBaGjIEeisg7dAXLfxow', '-oe4qmy5EeiKMCs5PteQFg', 'jgulHmjIEeiOB8PRNgO_aw'}\n",
            "{'M_hpXGnsEeiXGpv7Dhlf0A', 'RXgZsmnXEeigA6_4Oj8X_A', 'QkoOwmmLEeiJN28gT7MzDQ', 'W2F_HGo1EeivH1u5Y3sJQQ', 'TPewSGy3EeiWl2s5Ohxmew'}\n",
            "{'xGm20GqlEeiCgbPwzT73Zw', 'IfKPmGZQEeieQBNE5MNa6Q', 'wr0XjGhNEei7kU8Mts5XZQ', 'nfbDXGaHEeicd2OIcZFC9Q', 'pQVsRGqlEeiCFcNKhbmVrg', '8kq8VGcfEeiriD8-apn9mA', 'zdxBNGnXEeiaM6vr7TqZyA', 'VwlP_mgiEeiNgQvGE5ZASw', 'tNXstGbOEeijRsO5-0XMnQ', 'g_B3amhNEei4VHuw3JIEwQ'}\n",
            "{'N51anGo1EeivHi_OsaOVXQ', 'QGY9JmGbEeipzVue6ZZNLQ'}\n",
            "{'xMWppGZKEei4MAvPtHmmRw', 'G85K8mnaEeivB--FZS2EKQ'}\n",
            "{'W2ayhmnZEeiFBVd1mUO3ug', 'kqpqhmZKEeicXOsJDHBA-Q'}\n",
            "{'2dOromnYEeivC5se1-gZfQ', '6sOcwGZOEeiz9dd_K3jtcg', 'lqgkAmhSEeiAP2NXXbyXYA', 'yK8esmZIEei4Lvs4lKY6mA', 'yFv2dmaHEei8BcP8gZOX7w'}\n",
            "{'AgI_omhZEeiYM9tFcdigxQ', 'UpHGjGZLEei736ehnrRGwg', 'q8rwVGjOEeiYh6MMH2KXrQ', '1jNp8GnPEei8DEtkLAJVUQ', 'aXVGZmizEeit3puVByi4wA'}\n",
            "{'xVrUymmXEeihzufCTHpRSw', 'ReLX_Gj7EeiW4CNbIro-Aw'}\n",
            "{'N9fcfmcrEei0WSNvjZc2xQ', 'gyc-7mhTEei_-FuYfWEczw', 'FbEUfmipEeiIcZ8ieSXixw', '-YpnRmjLEeiIwTurKhJDWw', 'Xc3IRGixEeiQoqsDfrBeMQ', 'R4L0pmmXEei1DofPIOvR5A', '-Aq_amgDEeisPj8rIl3Wyg', 'WIV_NGmJEeiLQJfZoDndLA', '7pYfGmfgEeiTdssCP5q4NA'}\n",
            "{'iGuuqmi1EeiRShtdYBEeXQ', 'Os379Gl3EeiI-scwnedAFQ', 'yv4ofGghEeifkJddAojsjw', 'KTNIpmiyEeit3R_jgvbSmg', 'w6ag9Gl6Eei0yb-YzJ67yw'}\n",
            "{'VZpVMmfhEeisLzsxwTwAKw', 'S1KL9mgQEeicqjtdPuBx3Q', 'hI960GlrEei729PoDMxTQA', 'uzaIjGZTEeiDBV9gRusy8A'}\n",
            "{'j52AxGj0Eei6-tM-gBCfaA', 'kawDjmjOEeiIw2drYZh3MQ'}\n",
            "{'59lIxGjyEeiiI7M7pXKIUA', 'm3AeUGimEeiFwkOJdAChHw', '8ZDlmmhQEei90L8MpPzT4w'}\n",
            "{'9P-uGGhREeiQYmNJqy7TNQ', 'uLZyvmGbEei2HMvIq1Hv7w', 'NPvdUmjKEeiNSW_5Sk2NtQ'}\n",
            "{'lIrCCGZIEeirhAf0E05CGw', 'MaujkGhREeiWvpOb3pP29A', '7MzD8mjJEeiCBZs5XTAgUw'}\n",
            "{'JiAaNGi-Eei-Mm-UdVdUWg', '0iD5hmGbEei7hSP9WghBpg'}\n",
            "{'rRHhyGhYEeiuqmNyJlGvRA', 'VStWVGi0EeiId18zw6oDvQ', 't3nGjmfhEeiokJNVeQwlLg', 'LQMXKGi7Eei-MUOBSIw8Iw', 'JBpTjGZVEeieQp9fLVnCGg'}\n",
            "{'Z7bcGmhSEeii2rO3pB4_NQ', '81p2aGiyEeiDyS-5-Jof6g'}\n",
            "{'JX0gBmfgEei7lzerbalplA', 'vVIluGhREeisbl_O0u9wBg', 'yUp1xmiyEeiDyPNdXkmwAQ', 'B5DCHmcxEeikNzd1JB5twQ'}\n",
            "{'m55CaGhVEeidF3NVJPoOww', 'Ao3rqGZKEeiDA6scvHSlWQ', 'WDSrTmipEei-LaflgfcLTg'}\n",
            "{'LgWFumhYEeiYMjtn3KRx6Q', 'kL5nxGilEeiBPXc2IfyhwQ'}\n",
            "{'G6KgSGZUEeiVKddRlEN09A', 'r0vQdGfhEei8l_tUPVOArA', 'awyh8GhYEei4WpPT74UB6w'}\n",
            "{'JrTNmmZJEei4L3cuiCqsag', 'PdWLzGhWEeilvrNtjgpnbg'}\n",
            "{'40A0CmaTEeifCdf0Nt_0dw', 'x3u03mg7EeiLAgORcMTf9A'}\n",
            "{'h8wuLGfrEei7n0u0o1TkTA', 'VvEEnmbOEeicCUvAs6GRKQ', '2-rdCGfoEeiYUW9upBbkvw', 'r1RRBmffEeiIU_vmdSdcpQ', 'xekPLmZPEeijG9c4MUQzDg', 'GVgvDmgiEeiCjg_bb3lF6g'}\n",
            "{'YWyVGmfgEeiSyZdo_oZ7Ag', '6Ub8-GZSEeib29PQLYOyjg'}\n",
            "{'07k3hmaHEeimUJMbAFmRuw', '3OGipGZjEei79Ct0Tmukww'}\n",
            "{'nF4FMmGbEeiwQBODzvYlMw', 'NIUPPmZYEeib3A9KsQnx2w'}\n"
          ],
          "name": "stdout"
        }
      ]
    }
  ]
}