{
  "nbformat": 4,
  "nbformat_minor": 0,
  "metadata": {
    "colab": {
      "name": "initialAnalysis.ipynb",
      "version": "0.3.2",
      "provenance": [],
      "private_outputs": true,
      "collapsed_sections": []
    },
    "kernelspec": {
      "name": "python3",
      "display_name": "Python 3"
    }
  },
  "cells": [
    {
      "cell_type": "markdown",
      "metadata": {
        "id": "GY-chdJ3zcgz",
        "colab_type": "text"
      },
      "source": [
        "# Setup for initial analysis"
      ]
    },
    {
      "cell_type": "markdown",
      "metadata": {
        "id": "XV6OY74n3sQX",
        "colab_type": "text"
      },
      "source": [
        "## Load packages"
      ]
    },
    {
      "cell_type": "code",
      "metadata": {
        "id": "3VvWvtJGzuto",
        "colab_type": "code",
        "colab": {}
      },
      "source": [
        "%matplotlib inline\n",
        "import pandas as pd\n",
        "import requests\n",
        "import numpy as np\n",
        "from pandas.io.json import json_normalize\n",
        "import matplotlib.pyplot as plt"
      ],
      "execution_count": 0,
      "outputs": []
    },
    {
      "cell_type": "markdown",
      "metadata": {
        "id": "eInBvge2znj0",
        "colab_type": "text"
      },
      "source": [
        "## List of documents"
      ]
    },
    {
      "cell_type": "code",
      "metadata": {
        "id": "j3dp2B2a0EDt",
        "colab_type": "code",
        "colab": {}
      },
      "source": [
        "FMlinkList = {\n",
        "#2016 Marginal Syllabus        \n",
        "        'August':'http://www.commonsense.org/education/privacy/blog/digital-redlining-access-privacy',\n",
        "        'September':'http://dmlcentral.net/speculative-design-for-emergent-learning-taking-risks/',\n",
        "        'October':'http://marginalsyllab.us/wp-content/uploads/2016/08/PWFlow-Intro.pdf',\n",
        "        'November':'https://helenbeetham.com/2016/11/14/ed-tech-and-the-circus-of-unreason/',\n",
        "        'January':'http://marginalsyllab.us/the-school-and-social-progress-by-john-dewey/',\n",
        "        'February':'http://marginalsyllab.us/preface-to-research-writing-rewired-lessons-that-ground-students-digital-learning-by-dawn-reed-and-troy-hicks/',\n",
        "        'FebruaryJCI':'http://cognitionandinstruction.com/engagements-the-learning-sciences-in-a-new-era-of-u-s-nationalism/',\n",
        "        'March':'https://www.colorlines.com/articles/how-can-white-teachers-do-better-urban-kids-color',\n",
        "        'April':'http://educatorinnovator.org/between-storytelling-and-surveillance-the-precarious-public-of-american-muslim-youth/',\n",
        "        'May':'https://via.hypothes.is/http://educatorinnovator.org/wp-content/uploads/2017/05/LaMay-Ch5.pdf',\n",
        "#2017 Marginal Syllabus\n",
        "        'October-17':'https://educatorinnovator.org/how-young-activists-deploy-digital-tools-for-social-change',\n",
        "        'November-17':'https://educatorinnovator.org/wp-content/uploads/2017/10/RRE_Chapter-6_Civic-Participation-Remiagined_0091732X17690121.pdf'}"
      ],
      "execution_count": 0,
      "outputs": []
    },
    {
      "cell_type": "markdown",
      "metadata": {
        "id": "FeNiUZ-_zqvm",
        "colab_type": "text"
      },
      "source": [
        "# Helper function"
      ]
    },
    {
      "cell_type": "code",
      "metadata": {
        "id": "Yj3Uo2gK0NHu",
        "colab_type": "code",
        "colab": {}
      },
      "source": [
        "def H_API(session,uri):\n",
        "    n = 0\n",
        "    payload = {'url':uri}\n",
        "    r = requests.get('https://hypothes.is/api/search',params=payload)\n",
        "    tmp = pd.DataFrame(columns=['created', 'document.title', 'group', 'id', 'links.html',\n",
        "       'links.incontext', 'links.json', 'permissions.admin',\n",
        "       'permissions.delete', 'permissions.read', 'permissions.update',\n",
        "       'references', 'tags', 'target', 'text', 'updated', 'uri', 'user'])\n",
        "    total = r.json()['total']\n",
        "    print(session)\n",
        "    print(uri)\n",
        "    print('Number of Records Found for this Session: ',total)\n",
        "    print('Retrieved:')\n",
        "    while n < total:\n",
        "        print(n)\n",
        "        tmp = tmp.append(json_normalize(r.json()['rows']))\n",
        "        n = len(tmp)\n",
        "        payload = {\n",
        "            'url':uri,\n",
        "            'offset':n}\n",
        "        r = requests.get('https://hypothes.is/api/search',params=payload)\n",
        "    print(n)\n",
        "    print('*****')\n",
        "    tmp['session'] = session\n",
        "    tmp['updated'] = pd.to_datetime(tmp['updated'])\n",
        "    tmp['created'] = pd.to_datetime(tmp['created'])\n",
        "    tmp = tmp.set_index(tmp['created'])\n",
        "    return tmp"
      ],
      "execution_count": 0,
      "outputs": []
    },
    {
      "cell_type": "markdown",
      "metadata": {
        "id": "vk1i_Ch0z8V7",
        "colab_type": "text"
      },
      "source": [
        "# Create dataframes"
      ]
    },
    {
      "cell_type": "markdown",
      "metadata": {
        "id": "r72cu8Ue3wzu",
        "colab_type": "text"
      },
      "source": [
        "## from hypothes.is data"
      ]
    },
    {
      "cell_type": "code",
      "metadata": {
        "id": "xeEGibdw0L1l",
        "colab_type": "code",
        "colab": {}
      },
      "source": [
        "df = pd.DataFrame(columns=['created','document.title','group','id','links.html',\n",
        "       'links.incontext','links.json','permissions.admin',\n",
        "       'permissions.delete','permissions.read','permissions.update',\n",
        "       'references','tags','target','text','updated','uri','user','session'])\n",
        "for session,link in FMlinkList.items():\n",
        "    df = df.append(H_API(session,link))\n",
        "df = df.tz_localize('UTC').tz_convert('US/Mountain')\n",
        "print('Total Records: ',len(df))"
      ],
      "execution_count": 0,
      "outputs": []
    },
    {
      "cell_type": "markdown",
      "metadata": {
        "id": "mPPxen9n0Ac7",
        "colab_type": "text"
      },
      "source": [
        "## for analysis graphs"
      ]
    },
    {
      "cell_type": "code",
      "metadata": {
        "id": "QZy0SXSM8k-n",
        "colab_type": "code",
        "colab": {}
      },
      "source": [
        "stackedBarGraphs = {}\n",
        "userActivityTSGraphs = {}\n",
        "entireConversationTSGraphs = {}\n",
        "for session in FMlinkList:\n",
        "  Table1 = pd.DataFrame(index=list(df[df['session'] == session].drop_duplicates('user')['user']))\n",
        "  Table1['annotations'] = df[(df['session'] == session)&(df['references'].isnull())].groupby('user').size()\n",
        "  Table1['replies'] = df[(df['session'] == session)&(~df['references'].isnull())].groupby('user').size()\n",
        "  Table1.fillna(0,inplace=True)\n",
        "  Table1.index = Table1.index.str[5:].str[:-12]\n",
        "  Table1['total'] = Table1['replies'] + Table1['annotations']\n",
        "  stackedBarGraphs[session] = Table1.sort_values(by='total',ascending=False)[['annotations','replies']]\n",
        "  \n",
        "  Graph3 = df[(df['session'] == session)].groupby([pd.TimeGrouper('15T'),'user']).size().to_frame()\n",
        "  Graph3.reset_index(level='user',inplace=True)\n",
        "  Graph3 = pd.pivot_table(Graph3,columns='user',values=0,index=pd.Grouper(freq='15T'),fill_value=0)\n",
        "  Graph3 = Graph3.rename(columns=lambda x: x[5:][:-12])\n",
        "  userActivityTSGraphs[session] = Graph3\n",
        "  \n",
        "  graphEntireConversation = df[(df['session'] == session)\n",
        "                                ].groupby([pd.TimeGrouper('D'),'user']).size().to_frame()\n",
        "  graphEntireConversation.reset_index(level='user',inplace=True)\n",
        "  graphEntireConversation['Total'] = graphEntireConversation.sum(axis=1)\n",
        "  graphEntireConversation = pd.pivot_table(graphEntireConversation,columns='user',values=0,\n",
        "                                         index=pd.Grouper(freq='D'),fill_value=0)\n",
        "  graphEntireConversation = graphEntireConversation.rename(columns=lambda x: x[5:][:-12])\n",
        "  graphEntireConversation['Total'] = graphEntireConversation.sum(axis=1)\n",
        "  entireConversationTSGraphs[session] = graphEntireConversation"
      ],
      "execution_count": 0,
      "outputs": []
    },
    {
      "cell_type": "markdown",
      "metadata": {
        "id": "qp-hMs5u0aCc",
        "colab_type": "text"
      },
      "source": [
        "# Display visualizations \n",
        "## Entire user activity graph for each conversation by day"
      ]
    },
    {
      "cell_type": "code",
      "metadata": {
        "id": "r-PgZlGyGcpN",
        "colab_type": "code",
        "colab": {}
      },
      "source": [
        "for session in FMlinkList:\n",
        "  entireConversationTSGraphs[session].plot(title=session)"
      ],
      "execution_count": 0,
      "outputs": []
    },
    {
      "cell_type": "markdown",
      "metadata": {
        "id": "0KRoDUlT0lsn",
        "colab_type": "text"
      },
      "source": [
        "## User activity graph for each conversation by 15 min intervals\n",
        "### *note: time periods with no annotations are removed"
      ]
    },
    {
      "cell_type": "code",
      "metadata": {
        "id": "fbIDh0hFGucT",
        "colab_type": "code",
        "colab": {}
      },
      "source": [
        "for session in FMlinkList:\n",
        "  userActivityTSGraphs[session].plot(title=session)"
      ],
      "execution_count": 0,
      "outputs": []
    },
    {
      "cell_type": "markdown",
      "metadata": {
        "id": "h8CUiipR0px_",
        "colab_type": "text"
      },
      "source": [
        "## Stacked bar graph for each conversation"
      ]
    },
    {
      "cell_type": "code",
      "metadata": {
        "id": "Xcigzs9aG3fw",
        "colab_type": "code",
        "colab": {}
      },
      "source": [
        "for session in FMlinkList:\n",
        "  stackedBarGraphs[session].plot.bar(stacked=True,title=session)"
      ],
      "execution_count": 0,
      "outputs": []
    }
  ]
}