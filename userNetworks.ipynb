{
  "nbformat": 4,
  "nbformat_minor": 0,
  "metadata": {
    "colab": {
      "name": "userNetworks.ipynb",
      "version": "0.3.2",
      "provenance": [],
      "collapsed_sections": []
    },
    "kernelspec": {
      "name": "python3",
      "display_name": "Python 3"
    }
  },
  "cells": [
    {
      "cell_type": "markdown",
      "metadata": {
        "id": "yHI5Oy9-SaAs",
        "colab_type": "text"
      },
      "source": [
        "# Packages"
      ]
    },
    {
      "cell_type": "markdown",
      "metadata": {
        "id": "2sqtH7pZ-bv6",
        "colab_type": "text"
      },
      "source": [
        "##  For user networks"
      ]
    },
    {
      "cell_type": "code",
      "metadata": {
        "id": "SHrFVPy5sgc6",
        "colab_type": "code",
        "colab": {}
      },
      "source": [
        "%matplotlib inline\n",
        "import pandas as pd\n",
        "import matplotlib.pyplot as plt\n",
        "import networkx as nx\n",
        "import requests\n",
        "import numpy as np\n",
        "from pandas.io.json import json_normalize"
      ],
      "execution_count": 0,
      "outputs": []
    },
    {
      "cell_type": "markdown",
      "metadata": {
        "id": "l_AtNKMLStp0",
        "colab_type": "text"
      },
      "source": [
        "# List of documents"
      ]
    },
    {
      "cell_type": "code",
      "metadata": {
        "id": "6B1-WQIns09O",
        "colab_type": "code",
        "colab": {}
      },
      "source": [
        "FMlinkList = {\n",
        "    'october2017':\"http://educatorinnovator.org/how-young-activists-deploy-digital-tools-for-social-change\",\n",
        "    'november2017':\"https://educatorinnovator.org/wp-content/uploads/2017/10/RRE_Chapter-6_Civic-Participation-Remiagined_0091732X17690121.pdf\",\n",
        "    'december2017':\"https://educatorinnovator.org/wp-content/uploads/2017/10/Critical-Literacy-And-Our-Students-Lives.pdf\",\n",
        "    'january2018':\"https://educatorinnovator.org/wp-content/uploads/2017/12/OurDeclaration_PG31-35.pdf\",\n",
        "    'february2018':\"https://educatorinnovator.org/wp-content/uploads/2018/02/Educating-for-Democracy-in-a-Partisan-Age.pdf.pdf\",\n",
        "    'march2018':\"https://educatorinnovator.org/wp-content/uploads/2018/02/The-Stories-They-Tell-.pdf\",\n",
        "    'april2018':\"https://educatorinnovator.org/wp-content/uploads/2018/03/Educating-Youth-for-Online-Civic-and-Political-Dialogue_-A-Conceptual-Framework-for-the-Digital-Age-_-Journal-of-Digital-and-Media-Literacy.pdf\",\n",
        "    'may2018':\"https://educatorinnovator.org/wp-content/uploads/2018/03/zemelman_websample.pdf\",\n",
        "    'june2018':\"http://www.ncte.org/library/NCTEFiles/Resources/Journals/VM/0254-may2018/VM0254Leading.pdf\"\n",
        "}"
      ],
      "execution_count": 0,
      "outputs": []
    },
    {
      "cell_type": "markdown",
      "metadata": {
        "id": "1lER4DL_S2el",
        "colab_type": "text"
      },
      "source": [
        "# Helper functions\n"
      ]
    },
    {
      "cell_type": "code",
      "metadata": {
        "id": "owIbw9HQtECB",
        "colab_type": "code",
        "colab": {}
      },
      "source": [
        "# Build dataframe from hypothes.is API\n",
        "def H_API(session,uri):\n",
        "    n = 0\n",
        "    payload = {'url':uri}\n",
        "    r = requests.get('https://hypothes.is/api/search',params=payload)\n",
        "    tmp = pd.DataFrame(columns=['created', 'document.title', 'group', 'id', 'links.html',\n",
        "       'links.incontext', 'links.json', 'permissions.admin',\n",
        "       'permissions.delete', 'permissions.read', 'permissions.update',\n",
        "       'references', 'tags', 'target', 'text', 'updated', 'uri', 'user'])\n",
        "    total = r.json()['total']\n",
        "    print(session)\n",
        "    print(uri)\n",
        "    print('Number of Records Found for this Session: ',total)\n",
        "    print('Scraped:')\n",
        "    while n < total:\n",
        "        print(n)\n",
        "        tmp = tmp.append(json_normalize(r.json()['rows']))\n",
        "        n = len(tmp)\n",
        "        payload = {\n",
        "            'url':uri,\n",
        "            'offset':n}\n",
        "        r = requests.get('https://hypothes.is/api/search',params=payload)\n",
        "    print(n)\n",
        "    tmp['session'] = session\n",
        "    tmp['updated'] = pd.to_datetime(tmp['updated'])\n",
        "    tmp['created'] = pd.to_datetime(tmp['created'])\n",
        "    tmp = tmp.set_index(tmp['created'])\n",
        "    return tmp\n",
        "\n",
        "#returns the number of times a message was in a reference list of other messages\n",
        "def countReplies(msgId):\n",
        "    return len(df.dropna()[df['references'].dropna().map(lambda x: msgId in x)])\n",
        "def listOfIds(msgId):\n",
        "    return df.dropna()[df['references'].dropna().map(lambda x: msgId in x)]['id'].values\n",
        "def replyTimeDelta(x):\n",
        "    if len(df[df['id']==x]['created']) == 0:\n",
        "      return None\n",
        "    else:\n",
        "      return df[df['id']==x]['created'].iloc[0]\n",
        "def replyToUser(ref):\n",
        "  if (len(df[df['id']==ref]['user'])==0):\n",
        "    return None\n",
        "  else: \n",
        "    return df[df['id']==ref]['user'].iloc[0]"
      ],
      "execution_count": 0,
      "outputs": []
    },
    {
      "cell_type": "markdown",
      "metadata": {
        "id": "7mtm2mzvTAnN",
        "colab_type": "text"
      },
      "source": [
        "# Create dataFrames"
      ]
    },
    {
      "cell_type": "markdown",
      "metadata": {
        "id": "pi6zr0WN-rT1",
        "colab_type": "text"
      },
      "source": [
        "## With hypothes.is data"
      ]
    },
    {
      "cell_type": "code",
      "metadata": {
        "id": "C6lQuWbAtE6b",
        "colab_type": "code",
        "colab": {}
      },
      "source": [
        "df = pd.DataFrame(columns=['created','document.title','group','id','links.html',\n",
        "       'links.incontext','links.json','permissions.admin',\n",
        "       'permissions.delete','permissions.read','permissions.update',\n",
        "       'references','tags','target','text','updated','uri','user','session'])\n",
        "for session,link in FMlinkList.items():\n",
        "    df = df.append(H_API(session,link))\n",
        "df = df.tz_localize('UTC').tz_convert('US/Mountain')\n",
        "# print('Total Records: ',len(df))\n",
        "\n",
        "#Modify df for network analysis\n",
        "df = df[['created','id','references','session','tags','target', 'text','user']]\n",
        "df['user'] = df['user'].map(lambda x: x[5:-12])\n",
        "df['replyTo'] = df['references'].map(lambda x: x[-1],na_action='ignore')\n",
        "df['replyTo'].fillna('Doc',inplace=True)\n",
        "df['replyToUser'] = df[df['replyTo'].notnull()]['replyTo'].map(lambda x: replyToUser(x))\n",
        "for index, row in df.iterrows():\n",
        "  if (row['replyTo']=='Doc'):\n",
        "    df.loc[index, 'replyToUser'] = df.loc[index]['session']\n",
        "\n",
        "#Time betweeen message and reply\n",
        "df['replyDelay'] = df[df['replyTo'].notnull()]['created']\\\n",
        "- df[df['replyTo'].notnull()]['replyTo'].map(lambda x: replyTimeDelta(x))\n",
        "\n",
        "#convert to minutes\n",
        "df['replyDelay'] = df['replyDelay'].map(lambda x: x.total_seconds() / 60)"
      ],
      "execution_count": 0,
      "outputs": []
    },
    {
      "cell_type": "markdown",
      "metadata": {
        "id": "_awI0vFPTYf-",
        "colab_type": "text"
      },
      "source": [
        "## Build network of threads (2 or more messages in conversation)"
      ]
    },
    {
      "cell_type": "code",
      "metadata": {
        "id": "zypoz_gRtlVE",
        "colab_type": "code",
        "outputId": "74d266ce-84cb-45b2-e235-d2f7299cd33c",
        "colab": {
          "base_uri": "https://localhost:8080/",
          "height": 279
        }
      },
      "source": [
        "MG = nx.from_pandas_edgelist(df,'user','replyToUser'\n",
        "                           ,edge_attr=['tags','text']\n",
        "                           ,create_using=nx.MultiDiGraph())\n",
        "\n",
        "G = DiGraph()\n",
        "for (u,v) in MG.edges():\n",
        "    G.add_edge(u, v, weight=len(MG[u][v]))\n",
        "\n",
        "g = nx.Graph()\n",
        "g.add_edges_from(G.edges(), weight=0)\n",
        "\n",
        "for u, v, d in G.edges(data=True):\n",
        "    g[u][v]['weight'] += d['weight']\n",
        "    \n",
        "nodeSize = nx.degree(g)\n",
        "nodeSize = [(nodeSize[node]+1) * 20 for node in g.nodes()]\n",
        "\n",
        "edges = g.edges()\n",
        "weights = [g[u][v]['weight'] for u,v in edges]"
      ],
      "execution_count": 0,
      "outputs": [
        {
          "output_type": "error",
          "ename": "NameError",
          "evalue": "ignored",
          "traceback": [
            "\u001b[0;31m---------------------------------------------------------------------------\u001b[0m",
            "\u001b[0;31mNameError\u001b[0m                                 Traceback (most recent call last)",
            "\u001b[0;32m<ipython-input-79-15187ae4569d>\u001b[0m in \u001b[0;36m<module>\u001b[0;34m()\u001b[0m\n\u001b[1;32m      3\u001b[0m                            ,create_using=nx.MultiDiGraph())\n\u001b[1;32m      4\u001b[0m \u001b[0;34m\u001b[0m\u001b[0m\n\u001b[0;32m----> 5\u001b[0;31m \u001b[0mG\u001b[0m \u001b[0;34m=\u001b[0m \u001b[0mDiGraph\u001b[0m\u001b[0;34m(\u001b[0m\u001b[0;34m)\u001b[0m\u001b[0;34m\u001b[0m\u001b[0;34m\u001b[0m\u001b[0m\n\u001b[0m\u001b[1;32m      6\u001b[0m \u001b[0;32mfor\u001b[0m \u001b[0;34m(\u001b[0m\u001b[0mu\u001b[0m\u001b[0;34m,\u001b[0m\u001b[0mv\u001b[0m\u001b[0;34m)\u001b[0m \u001b[0;32min\u001b[0m \u001b[0mMG\u001b[0m\u001b[0;34m.\u001b[0m\u001b[0medges\u001b[0m\u001b[0;34m(\u001b[0m\u001b[0;34m)\u001b[0m\u001b[0;34m:\u001b[0m\u001b[0;34m\u001b[0m\u001b[0;34m\u001b[0m\u001b[0m\n\u001b[1;32m      7\u001b[0m     \u001b[0mG\u001b[0m\u001b[0;34m.\u001b[0m\u001b[0madd_edge\u001b[0m\u001b[0;34m(\u001b[0m\u001b[0mu\u001b[0m\u001b[0;34m,\u001b[0m \u001b[0mv\u001b[0m\u001b[0;34m,\u001b[0m \u001b[0mweight\u001b[0m\u001b[0;34m=\u001b[0m\u001b[0mlen\u001b[0m\u001b[0;34m(\u001b[0m\u001b[0mMG\u001b[0m\u001b[0;34m[\u001b[0m\u001b[0mu\u001b[0m\u001b[0;34m]\u001b[0m\u001b[0;34m[\u001b[0m\u001b[0mv\u001b[0m\u001b[0;34m]\u001b[0m\u001b[0;34m)\u001b[0m\u001b[0;34m)\u001b[0m\u001b[0;34m\u001b[0m\u001b[0;34m\u001b[0m\u001b[0m\n",
            "\u001b[0;31mNameError\u001b[0m: name 'DiGraph' is not defined"
          ]
        }
      ]
    },
    {
      "cell_type": "markdown",
      "metadata": {
        "id": "PBJuUkmOUCLR",
        "colab_type": "text"
      },
      "source": [
        "## Displays "
      ]
    },
    {
      "cell_type": "markdown",
      "metadata": {
        "id": "iXTxwySq_Cxi",
        "colab_type": "text"
      },
      "source": [
        "### All users"
      ]
    },
    {
      "cell_type": "code",
      "metadata": {
        "id": "BSkC7CBrryvT",
        "colab_type": "code",
        "colab": {}
      },
      "source": [
        "from graphviz import Digraph"
      ],
      "execution_count": 0,
      "outputs": []
    },
    {
      "cell_type": "code",
      "metadata": {
        "id": "I8zsELWSt3im",
        "colab_type": "code",
        "outputId": "1478e63d-0a2b-4a78-8e25-aa825dd222a8",
        "colab": {
          "base_uri": "https://localhost:8080/",
          "height": 772
        }
      },
      "source": [
        "nx.nx_agraph.graphviz_layout(g)"
      ],
      "execution_count": 0,
      "outputs": [
        {
          "output_type": "error",
          "ename": "ImportError",
          "evalue": "ignored",
          "traceback": [
            "\u001b[0;31m---------------------------------------------------------------------------\u001b[0m",
            "\u001b[0;31mModuleNotFoundError\u001b[0m                       Traceback (most recent call last)",
            "\u001b[0;32m/usr/local/lib/python3.6/dist-packages/networkx/drawing/nx_agraph.py\u001b[0m in \u001b[0;36mpygraphviz_layout\u001b[0;34m(G, prog, root, args)\u001b[0m\n\u001b[1;32m    282\u001b[0m     \u001b[0;32mtry\u001b[0m\u001b[0;34m:\u001b[0m\u001b[0;34m\u001b[0m\u001b[0;34m\u001b[0m\u001b[0m\n\u001b[0;32m--> 283\u001b[0;31m         \u001b[0;32mimport\u001b[0m \u001b[0mpygraphviz\u001b[0m\u001b[0;34m\u001b[0m\u001b[0;34m\u001b[0m\u001b[0m\n\u001b[0m\u001b[1;32m    284\u001b[0m     \u001b[0;32mexcept\u001b[0m \u001b[0mImportError\u001b[0m\u001b[0;34m:\u001b[0m\u001b[0;34m\u001b[0m\u001b[0;34m\u001b[0m\u001b[0m\n",
            "\u001b[0;31mModuleNotFoundError\u001b[0m: No module named 'pygraphviz'",
            "\nDuring handling of the above exception, another exception occurred:\n",
            "\u001b[0;31mImportError\u001b[0m                               Traceback (most recent call last)",
            "\u001b[0;32m<ipython-input-76-3374e61bd3dd>\u001b[0m in \u001b[0;36m<module>\u001b[0;34m()\u001b[0m\n\u001b[0;32m----> 1\u001b[0;31m \u001b[0mnx\u001b[0m\u001b[0;34m.\u001b[0m\u001b[0mnx_agraph\u001b[0m\u001b[0;34m.\u001b[0m\u001b[0mgraphviz_layout\u001b[0m\u001b[0;34m(\u001b[0m\u001b[0mg\u001b[0m\u001b[0;34m)\u001b[0m\u001b[0;34m\u001b[0m\u001b[0;34m\u001b[0m\u001b[0m\n\u001b[0m",
            "\u001b[0;32m/usr/local/lib/python3.6/dist-packages/networkx/drawing/nx_agraph.py\u001b[0m in \u001b[0;36mgraphviz_layout\u001b[0;34m(G, prog, root, args)\u001b[0m\n\u001b[1;32m    241\u001b[0m \u001b[0;34m\u001b[0m\u001b[0m\n\u001b[1;32m    242\u001b[0m     \"\"\"\n\u001b[0;32m--> 243\u001b[0;31m     \u001b[0;32mreturn\u001b[0m \u001b[0mpygraphviz_layout\u001b[0m\u001b[0;34m(\u001b[0m\u001b[0mG\u001b[0m\u001b[0;34m,\u001b[0m \u001b[0mprog\u001b[0m\u001b[0;34m=\u001b[0m\u001b[0mprog\u001b[0m\u001b[0;34m,\u001b[0m \u001b[0mroot\u001b[0m\u001b[0;34m=\u001b[0m\u001b[0mroot\u001b[0m\u001b[0;34m,\u001b[0m \u001b[0margs\u001b[0m\u001b[0;34m=\u001b[0m\u001b[0margs\u001b[0m\u001b[0;34m)\u001b[0m\u001b[0;34m\u001b[0m\u001b[0;34m\u001b[0m\u001b[0m\n\u001b[0m\u001b[1;32m    244\u001b[0m \u001b[0;34m\u001b[0m\u001b[0m\n\u001b[1;32m    245\u001b[0m \u001b[0;34m\u001b[0m\u001b[0m\n",
            "\u001b[0;32m/usr/local/lib/python3.6/dist-packages/networkx/drawing/nx_agraph.py\u001b[0m in \u001b[0;36mpygraphviz_layout\u001b[0;34m(G, prog, root, args)\u001b[0m\n\u001b[1;32m    284\u001b[0m     \u001b[0;32mexcept\u001b[0m \u001b[0mImportError\u001b[0m\u001b[0;34m:\u001b[0m\u001b[0;34m\u001b[0m\u001b[0;34m\u001b[0m\u001b[0m\n\u001b[1;32m    285\u001b[0m         raise ImportError('requires pygraphviz ',\n\u001b[0;32m--> 286\u001b[0;31m                           'http://pygraphviz.github.io/')\n\u001b[0m\u001b[1;32m    287\u001b[0m     \u001b[0;32mif\u001b[0m \u001b[0mroot\u001b[0m \u001b[0;32mis\u001b[0m \u001b[0;32mnot\u001b[0m \u001b[0;32mNone\u001b[0m\u001b[0;34m:\u001b[0m\u001b[0;34m\u001b[0m\u001b[0;34m\u001b[0m\u001b[0m\n\u001b[1;32m    288\u001b[0m         \u001b[0margs\u001b[0m \u001b[0;34m+=\u001b[0m \u001b[0;34m\"-Groot=%s\"\u001b[0m \u001b[0;34m%\u001b[0m \u001b[0mroot\u001b[0m\u001b[0;34m\u001b[0m\u001b[0;34m\u001b[0m\u001b[0m\n",
            "\u001b[0;31mImportError\u001b[0m: ('requires pygraphviz ', 'http://pygraphviz.github.io/')",
            "",
            "\u001b[0;31m---------------------------------------------------------------------------\u001b[0;32m\nNOTE: If your import is failing due to a missing package, you can\nmanually install dependencies using either !pip or !apt.\n\nTo view examples of installing some common dependencies, click the\n\"Open Examples\" button below.\n\u001b[0;31m---------------------------------------------------------------------------\u001b[0m\n"
          ]
        }
      ]
    },
    {
      "cell_type": "code",
      "metadata": {
        "colab_type": "code",
        "outputId": "d8d7cde8-5a0e-4174-8ef8-52b13ea48a62",
        "id": "j2yUWgYv1z8R",
        "colab": {
          "base_uri": "https://localhost:8080/",
          "height": 260
        }
      },
      "source": [
        "plt.figure(figsize=(10,10))\n",
        "nx.drawing(g,prog='neato',with_labels=True,node_size=nodeSize)#,width=weights)\n",
        "plt.show()"
      ],
      "execution_count": 0,
      "outputs": [
        {
          "output_type": "error",
          "ename": "AttributeError",
          "evalue": "ignored",
          "traceback": [
            "\u001b[0;31m---------------------------------------------------------------------------\u001b[0m",
            "\u001b[0;31mAttributeError\u001b[0m                            Traceback (most recent call last)",
            "\u001b[0;32m<ipython-input-74-5e4c496c642c>\u001b[0m in \u001b[0;36m<module>\u001b[0;34m()\u001b[0m\n\u001b[1;32m      1\u001b[0m \u001b[0mplt\u001b[0m\u001b[0;34m.\u001b[0m\u001b[0mfigure\u001b[0m\u001b[0;34m(\u001b[0m\u001b[0mfigsize\u001b[0m\u001b[0;34m=\u001b[0m\u001b[0;34m(\u001b[0m\u001b[0;36m10\u001b[0m\u001b[0;34m,\u001b[0m\u001b[0;36m10\u001b[0m\u001b[0;34m)\u001b[0m\u001b[0;34m)\u001b[0m\u001b[0;34m\u001b[0m\u001b[0;34m\u001b[0m\u001b[0m\n\u001b[0;32m----> 2\u001b[0;31m \u001b[0mnx\u001b[0m\u001b[0;34m.\u001b[0m\u001b[0mdrawing\u001b[0m\u001b[0;34m.\u001b[0m\u001b[0mgraphviz_layout\u001b[0m\u001b[0;34m(\u001b[0m\u001b[0mg\u001b[0m\u001b[0;34m,\u001b[0m\u001b[0mprog\u001b[0m\u001b[0;34m=\u001b[0m\u001b[0;34m'neato'\u001b[0m\u001b[0;34m,\u001b[0m\u001b[0mwith_labels\u001b[0m\u001b[0;34m=\u001b[0m\u001b[0;32mTrue\u001b[0m\u001b[0;34m,\u001b[0m\u001b[0mnode_size\u001b[0m\u001b[0;34m=\u001b[0m\u001b[0mnodeSize\u001b[0m\u001b[0;34m)\u001b[0m\u001b[0;31m#,width=weights)\u001b[0m\u001b[0;34m\u001b[0m\u001b[0;34m\u001b[0m\u001b[0m\n\u001b[0m\u001b[1;32m      3\u001b[0m \u001b[0mplt\u001b[0m\u001b[0;34m.\u001b[0m\u001b[0mshow\u001b[0m\u001b[0;34m(\u001b[0m\u001b[0;34m)\u001b[0m\u001b[0;34m\u001b[0m\u001b[0;34m\u001b[0m\u001b[0m\n",
            "\u001b[0;31mAttributeError\u001b[0m: module 'networkx.drawing' has no attribute 'graphviz_layout'"
          ]
        },
        {
          "output_type": "display_data",
          "data": {
            "text/plain": [
              "<Figure size 720x720 with 0 Axes>"
            ]
          },
          "metadata": {
            "tags": []
          }
        }
      ]
    },
    {
      "cell_type": "markdown",
      "metadata": {
        "id": "ObjyqNUNqenX",
        "colab_type": "text"
      },
      "source": [
        "###For a specific user"
      ]
    },
    {
      "cell_type": "code",
      "metadata": {
        "id": "7QaCXvjuqdcH",
        "colab_type": "code",
        "outputId": "eea7bbd4-4b16-4f8a-e545-214c46946770",
        "colab": {
          "base_uri": "https://localhost:8080/",
          "height": 385
        }
      },
      "source": [
        "## change the user\n",
        "## List of users ['stephanied42', 'Laika57', 'ifrank', 'hypervisible', 'actualham',\n",
        "##       'billfitzgerald', 'clhendricksbc', 'jdamhof', 'bali', 'BMBOD',\n",
        "##       'onewheeljoe', 'ndsteinmetz', 'remiholden', 'JenProf', 'kmriebau',\n",
        "##       'bhwilkoff', 'jeremydean', 'DrYemiS', 'autumm393']\n",
        "\n",
        "u = 'dogtrax'\n",
        "sourceNodeNeighbors = [x for x in nx.all_neighbors(g,u)]\n",
        "sourceNodeNeighbors.append(u)\n",
        "edges = g.subgraph(sourceNodeNeighbors).edges()\n",
        "weights = [g[u][v]['weight'] for u,v in edges]\n",
        "nx.draw_kamada_kawai(g.subgraph(sourceNodeNeighbors),with_labels=True,width=weights)\n",
        "plt.title(u+' and neighbors')\n",
        "plt.show()"
      ],
      "execution_count": 0,
      "outputs": [
        {
          "output_type": "stream",
          "text": [
            "/usr/local/lib/python3.6/dist-packages/networkx/drawing/nx_pylab.py:611: MatplotlibDeprecationWarning: isinstance(..., numbers.Number)\n",
            "  if cb.is_numlike(alpha):\n"
          ],
          "name": "stderr"
        },
        {
          "output_type": "display_data",
          "data": {
            "image/png": "[encoded data removed]",
            "text/plain": [
              "<Figure size 432x288 with 1 Axes>"
            ]
          },
          "metadata": {
            "tags": []
          }
        }
      ]
    },
    {
      "cell_type": "markdown",
      "metadata": {
        "id": "8-owDDCFUGiH",
        "colab_type": "text"
      },
      "source": [
        "### Users and their neighbors"
      ]
    },
    {
      "cell_type": "code",
      "metadata": {
        "id": "58FPKYkms0Mx",
        "colab_type": "code",
        "colab": {}
      },
      "source": [
        "for uu in df[df['references'].notnull()]['user'].unique():\n",
        "  sourceNodeNeighbors = [x for x in nx.all_neighbors(g,uu)]\n",
        "  sourceNodeNeighbors.append(uu)\n",
        "  nx.draw_kamada_kawai(g.subgraph(sourceNodeNeighbors),with_labels=True,width=weights)\n",
        "  plt.title(uu+' and neighbors')\n",
        "  plt.show()"
      ],
      "execution_count": 0,
      "outputs": []
    }
  ]
}